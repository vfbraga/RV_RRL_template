{
 "cells": [
  {
   "cell_type": "markdown",
   "id": "70be0738",
   "metadata": {},
   "source": [
    "# Examples for using the Radial velocity templates by [Braga+ 2021](https://ui.adsabs.harvard.edu/abs/2021ApJ...919...85B/abstract)\n",
    "\n",
    "This notebook will guide the user in all the possible cases in which it is possible to apply the radial velocity (RV) templates. The aim is always to derive a systemic radial velocity from \n",
    "\n",
    "1) A few RV measurements (see details for each case)\n",
    "\n",
    "2) The knowledge of pulsation properties from optical data (see details for each case)"
   ]
  },
  {
   "cell_type": "code",
   "execution_count": 59,
   "id": "c66fa134",
   "metadata": {},
   "outputs": [],
   "source": [
    "# Note that RV_template_function imports the module mpfit, \n",
    "# which is a third-party product, available within astrolibpy\n",
    "import RV_template_functions\n",
    "import numpy as np\n",
    "import matplotlib.pyplot as plt\n",
    "import pandas as pd\n",
    "from PyPDF2 import PdfMerger\n",
    "import os"
   ]
  },
  {
   "cell_type": "markdown",
   "id": "316c39e3",
   "metadata": {},
   "source": [
    "First of all, set up the folder in which you will be working"
   ]
  },
  {
   "cell_type": "code",
   "execution_count": 49,
   "id": "1b2da33d",
   "metadata": {},
   "outputs": [],
   "source": [
    "folder = os.getcwd()+'/' #To be changed by the user\n",
    "folder_coefficient_table = os.getcwd()+'/' #To be changed by the user\n",
    "folder_rrls = folder_coefficient_table+'test/' #To be changed by the user\n",
    "folder_rvcs = folder_rrls+'rvcs/'\n",
    "file_coeff = 'coefficients.csv'"
   ]
  },
  {
   "cell_type": "code",
   "execution_count": 50,
   "id": "6370d481",
   "metadata": {},
   "outputs": [],
   "source": [
    "# dictionary for the conversion of pulsation mode into integer\n",
    "dict_pulsationmode = {'RRab': 0, 'RRc': 1}"
   ]
  },
  {
   "cell_type": "markdown",
   "id": "b88c1fff",
   "metadata": {},
   "source": [
    "The following three cases will be discussed\n",
    "\n",
    "1) When three or more RV measurements are available. Fe RV-curve templates are used in this case. The template must be used as a fitting function with two free parameters (DeltaPhase, DeltaMag).\n",
    "\n",
    "2) When four or more RV measurements are available. Fe RV-curve templates are used in this case. The template must be used as a fitting function with three free parameters (DeltaPhase, DeltaMag, Ampl)."
   ]
  },
  {
   "cell_type": "markdown",
   "id": "20012119",
   "metadata": {},
   "source": [
    "## Case 1: Three or more RV measurement available (from Fe lines, with fixed amplitude)\n",
    "\n",
    "When three or more RV measurements are available for one target, it is possible to use the template not by anchoring it to a given epoch, but as a fitting function, leaving two free parameters: the phase displacement and the mean RV displacement. In this case, only Period, and amplitude are needed as previous knowledge. Note that the function apply_template_templfit_amplfixed takes as input t0, but this can be arbitrary and only affects visualization and not the results."
   ]
  },
  {
   "cell_type": "code",
   "execution_count": 64,
   "id": "15b00959",
   "metadata": {},
   "outputs": [],
   "source": [
    "df = pd.read_csv(folder_rrls+'rrls_properties.csv', dtype={'my_id': str})\n",
    "\n",
    "# use 0 for generic metallic lines or Fe I multiplet 43\n",
    "# use 1 for Na doublet\n",
    "# use 2 for Mg I b triplet\n",
    "# 3, 4, 5, 6 for Balmer alpha-delta lines\n",
    "diagnostic = 0\n",
    "filein = folder_coefficient_table+file_coeff\n",
    "\n",
    "merger = PdfMerger()\n",
    "\n",
    "id = []\n",
    "v_gamma = []\n",
    "v_gamma_err = []\n",
    "list_figure_out = []\n",
    "\n",
    "for ind in df.index:\n",
    "    \n",
    "    df_rvc = pd.read_csv(folder_rvcs+df['my_id'][ind]+'.rvc', header=None, delim_whitespace=True)\n",
    "    n_points = df_rvc.shape[0]\n",
    "    if n_points < 3:\n",
    "        continue\n",
    "    \n",
    "    df_rvc['HJD'] = df_rvc[4]*1000. + df_rvc[5]\n",
    "    df_rvc.rename(columns={0: 'RV', 1: 'errRV'}, inplace=True)\n",
    "    df_rvc.drop(columns=[2, 3, 4, 5, 6, 7, 8, 9, 10], inplace=True)\n",
    "    \n",
    "    figureout = folder_rrls + df['my_id'][ind]+'.pdf'\n",
    "    \n",
    "    result_case1 = RV_template_functions.apply_template_templfit_amplfixed(df_rvc['HJD'], df_rvc['RV'], \n",
    "                                                                           df_rvc['errRV'], df['Vampl'][ind], \n",
    "                                                                           dict_pulsationmode[df['class_final'][ind]],\n",
    "                                                                           df['period_photo'][ind], 0., diagnostic,\n",
    "                                                                           filein, figure_out=figureout, quiet=1)\n",
    "    \n",
    "    id.append(df['my_id'][ind])\n",
    "    v_gamma.append(result_case1['v_gamma_mean'])\n",
    "    v_gamma_err.append(result_case1['errv_gamma_mean'])\n",
    "    list_figure_out.append(figureout)\n",
    "    \n",
    "    merger.append(figureout)\n",
    "    \n",
    "df_result = pd.DataFrame(data={})\n",
    "df_result['ID'] = id\n",
    "df_result['vgamma'] = v_gamma\n",
    "df_result['v_gamma_err'] = v_gamma_err\n",
    "\n",
    "merger.write(folder_rrls+'allfigures_case1.pdf')\n",
    "merger.close()\n",
    "for pdf in list_figure_out:\n",
    "    os.remove(pdf)\n",
    "\n",
    "df_result.to_csv(folder_rrls+'results_case1.csv')"
   ]
  },
  {
   "cell_type": "markdown",
   "id": "f5c235b0",
   "metadata": {},
   "source": [
    "## Case 2: Four or more RV measurement available (from Fe lines, with free amplitude)\n",
    "\n",
    "When three or more RV measurements are available for one target, it is possible to use the template not by anchoring it to a given epoch, but as a fitting function, leaving three free parameters: the phase displacement, the mean RV displacement and the amplitude ARV. In this case, only Period is needed as previous knowledge. Note that the function apply_template_templfit_amplfixed takes as input t0, but this can be arbitrary and only affects visualization and not the results."
   ]
  },
  {
   "cell_type": "code",
   "execution_count": 63,
   "id": "0ddaab01",
   "metadata": {},
   "outputs": [
    {
     "name": "stdout",
     "output_type": "stream",
     "text": [
      "4\n",
      "6\n",
      "3\n",
      "6\n",
      "6\n"
     ]
    }
   ],
   "source": [
    "df = pd.read_csv(folder_rrls+'rrls_properties.csv', dtype={'my_id': str})\n",
    "\n",
    "# use 0 for generic metallic lines or Fe I multiplet 43\n",
    "# use 1 for Na doublet\n",
    "# use 2 for Mg I b triplet\n",
    "# 3, 4, 5, 6 for Balmer alpha-delta lines\n",
    "diagnostic = 0\n",
    "filein = folder_coefficient_table+file_coeff\n",
    "\n",
    "merger = PdfMerger()\n",
    "\n",
    "id = []\n",
    "v_gamma = []\n",
    "v_gamma_err = []\n",
    "list_figure_out = []\n",
    "\n",
    "for ind in df.index:\n",
    "    \n",
    "    df_rvc = pd.read_csv(folder_rvcs+df['my_id'][ind]+'.rvc', header=None, delim_whitespace=True)\n",
    "    n_points = df_rvc.shape[0]\n",
    "    print(n_points)\n",
    "    if n_points < 4:\n",
    "        continue\n",
    "\n",
    "    df_rvc['HJD'] = df_rvc[4]*1000. + df_rvc[5]\n",
    "    df_rvc.rename(columns={0: 'RV', 1: 'errRV'}, inplace=True)\n",
    "    df_rvc.drop(columns=[2, 3, 4, 5, 6, 7, 8, 9, 10], inplace=True)\n",
    "    \n",
    "    figureout = folder_rrls + df['my_id'][ind]+'.pdf'\n",
    "    \n",
    "    result_case1 = RV_template_functions.apply_template_templfit_amplfree(df_rvc['HJD'], df_rvc['RV'], \n",
    "                                                                           df_rvc['errRV'], \n",
    "                                                                           dict_pulsationmode[df['class_final'][ind]],\n",
    "                                                                           df['period_photo'][ind], 0., diagnostic,\n",
    "                                                                           filein, figure_out=figureout, quiet=1)\n",
    "    \n",
    "    id.append(df['my_id'][ind])\n",
    "    v_gamma.append(result_case1['v_gamma_mean'])\n",
    "    v_gamma_err.append(result_case1['errv_gamma_mean'])\n",
    "    list_figure_out.append(figureout)\n",
    "    \n",
    "    merger.append(figureout)\n",
    "    \n",
    "df_result = pd.DataFrame(data={})\n",
    "df_result['ID'] = id\n",
    "df_result['vgamma'] = v_gamma\n",
    "df_result['v_gamma_err'] = v_gamma_err\n",
    "\n",
    "merger.write(folder_rrls+'allfigures_case2.pdf')\n",
    "merger.close()\n",
    "for pdf in list_figure_out:\n",
    "    os.remove(pdf)\n",
    "\n",
    "df_result.to_csv(folder_rrls+'results_case2.csv')"
   ]
  },
  {
   "cell_type": "code",
   "execution_count": null,
   "id": "9f57df1d",
   "metadata": {},
   "outputs": [],
   "source": []
  }
 ],
 "metadata": {
  "kernelspec": {
   "display_name": "Python 3 (ipykernel)",
   "language": "python",
   "name": "python3"
  },
  "language_info": {
   "codemirror_mode": {
    "name": "ipython",
    "version": 3
   },
   "file_extension": ".py",
   "mimetype": "text/x-python",
   "name": "python",
   "nbconvert_exporter": "python",
   "pygments_lexer": "ipython3",
   "version": "3.8.10"
  }
 },
 "nbformat": 4,
 "nbformat_minor": 5
}
