{
 "cells": [
  {
   "cell_type": "markdown",
   "id": "70be0738",
   "metadata": {},
   "source": [
    "# Examples for using the Radial velocity templates by [Braga+ 2021](https://ui.adsabs.harvard.edu/abs/2021ApJ...919...85B/abstract)\n",
    "\n",
    "This notebook will guide the user in all the possible cases in which it is possible to apply the radial velocity (RV) templates. The aim is always to derive a systemic radial velocity from \n",
    "\n",
    "1) A few RV measurements (see details for each case)\n",
    "\n",
    "2) The knowledge of pulsation properties from optical data (see details for each case)"
   ]
  },
  {
   "cell_type": "code",
   "execution_count": 1,
   "id": "c66fa134",
   "metadata": {},
   "outputs": [],
   "source": [
    "# Note that RV_template_function imports the module mpfit, \n",
    "# which is a third-party product, available within astrolibpy\n",
    "import RV_template_functions\n",
    "import numpy as np\n",
    "from matplotlib import cm"
   ]
  },
  {
   "cell_type": "markdown",
   "id": "316c39e3",
   "metadata": {},
   "source": [
    "First of all, set up the folder in which you will be working"
   ]
  },
  {
   "cell_type": "code",
   "execution_count": 2,
   "id": "1b2da33d",
   "metadata": {},
   "outputs": [],
   "source": [
    "folder = '/home/vittorioinaf/Documenti/Programmi/Python/RV_RRL_templates/' #To be changed by the user\n",
    "folder_coefficient_table = '/home/vittorioinaf/Documenti/Programmi/Python/RV_RRL_templates/' #To be changed by the user\n",
    "file_coeff = 'coefficients.csv'"
   ]
  },
  {
   "cell_type": "markdown",
   "id": "b88c1fff",
   "metadata": {},
   "source": [
    "The following three cases will be discussed\n",
    "\n",
    "1) When only one or two RV measurements, from metallic lines, are available.\n",
    "\n",
    "2) When only one or two RV measurements, from Balmer alpha lines, are available. In this case, the technique to adopt is identical, but one has to take into account the phase shift of the Balmer RV curves with respect to metallic lines.\n",
    "\n",
    "3) When three or more RV measurements are available. Na RV-curve templates are used in this case, only for variety."
   ]
  },
  {
   "cell_type": "markdown",
   "id": "98b3b3ce",
   "metadata": {},
   "source": [
    "## Case 1: One or two RV measurement available (from metallic lines)\n",
    "\n",
    "In this case, it is mandatory to know the full pulsation properties of the variable: Period, amplitude and epoch of reference. The templates are anchored to the epoch of mean magnitude on the rising branch ($t_{mean}^{ris}$) but we provide also a relation in case only the more classic epoch of maximum light was available ($t_{max}$). Note that, as showed in Section 6 of the paper, the V-band $t_{mean}^{ris}$ matches the Fe-RV curve $t_{mean}^{ris}$."
   ]
  },
  {
   "cell_type": "code",
   "execution_count": 3,
   "id": "512a862b",
   "metadata": {},
   "outputs": [],
   "source": [
    "# # --- measurements (must be np.array) ---\n",
    "HJD = np.asarray([2450000.]) # HJD of the RV measurements\n",
    "RV = np.asarray([145.]) # RV measurements\n",
    "errRV = np.asarray([2.]) # uncertainties on RV measurements\n",
    "\n",
    "# --- pulsation properties ---\n",
    "# V-band amplitude\n",
    "AV = 1. \n",
    "\n",
    "# 0=RRab; 1=RRc\n",
    "pulsation_type = 0 \n",
    "\n",
    "# period of pulsation\n",
    "period = 0.43\n",
    "\n",
    "# HJD of reference epoch\n",
    "t0 = 2450000.1\n",
    "\n",
    "# type of reference epoch \n",
    "# use 'Tmax' if t0 is the epoch of maximum\n",
    "# use 'Tmean' if t0 is the  epoch of mean magnitude on the rising branch\n",
    "tmean_or_tmax = 'Tmax'\n",
    "\n",
    "# use 0 for generic metallic lines or Fe I multiplet 43\n",
    "# use 1 for Na doublet\n",
    "# use 2 for Mg I b triplet\n",
    "# 3, 4, 5, 6 for Balmer alpha-delta lines\n",
    "diagnostic = 0\n",
    "filein = folder_coefficient_table+file_coeff"
   ]
  },
  {
   "cell_type": "code",
   "execution_count": 4,
   "id": "b6d02fd1",
   "metadata": {},
   "outputs": [],
   "source": [
    "figureout = 'test_case1.pdf'\n",
    "\n",
    "result_case1 = RV_template_functions.apply_template_templfit_amplfixed(HJD, RV, errRV, AV, pulsation_type,\n",
    "                            period, t0, tmean_or_tmax, diagnostic,\n",
    "                            filein, figure_out=figureout)"
   ]
  },
  {
   "cell_type": "code",
   "execution_count": 5,
   "id": "ab0750fe",
   "metadata": {
    "scrolled": true
   },
   "outputs": [
    {
     "name": "stdout",
     "output_type": "stream",
     "text": [
      "Systemic Radial Velocity:133.005+- 3.308\n"
     ]
    }
   ],
   "source": [
    "print('Systemic Radial Velocity:{0:6.3f}+-{1:6.3f}'.format(result_case1['v_gamma_mean'],\n",
    "                                                           result_case1['errv_gamma_mean']))"
   ]
  },
  {
   "cell_type": "markdown",
   "id": "b8f5ad8c",
   "metadata": {},
   "source": [
    "## Case 2: One or two RV measurement available (from H$\\alpha$ lines)\n",
    "\n",
    "In this case, it is mandatory to know the full pulsation properties of the variable: Period, amplitude and epoch of reference. The templates are anchored to the epoch of mean magnitude on the rising branch ($t_{mean}^{ris}$) but we provide also a relation in case only the more classic epoch of maximum was available ($t_{max}$). Since the Balmer lines probe different heights than Fe and V-band, the reference epoch is shifted within the apply_template_templfit_amplfixed step."
   ]
  },
  {
   "cell_type": "code",
   "execution_count": 6,
   "id": "88b4c7e5",
   "metadata": {},
   "outputs": [],
   "source": [
    "# # --- measurements (must be np.array) ---\n",
    "HJD = np.asarray([2450000.,2450001.]) # HJD of the RV measurements\n",
    "RV = np.asarray([145.,215]) # RV measurements\n",
    "errRV = np.asarray([2.,3.]) # uncertainties on RV measurements\n",
    "\n",
    "# --- pulsation properties ---\n",
    "# V-band amplitude\n",
    "AV = 1. \n",
    "\n",
    "# 0=RRab; 1=RRc\n",
    "pulsation_type = 0 \n",
    "\n",
    "# period of pulsation\n",
    "period = 0.57\n",
    "\n",
    "# HJD of reference epoch\n",
    "t0 = 2450000.1\n",
    "\n",
    "# type of reference epoch \n",
    "# use 'Tmax' if t0 is the epoch of maximum\n",
    "# use 'Tmean' if t0 is the  epoch of mean magnitude on the rising branch\n",
    "tmean_or_tmax = 'Tmax'\n",
    "\n",
    "# use 0 for generic metallic lines or Fe I multiplet 43\n",
    "# use 1 for Na doublet\n",
    "# use 2 for Mg I b triplet\n",
    "# 3, 4, 5, 6 for Balmer alpha-delta lines\n",
    "diagnostic = 4\n",
    "filein = folder_coefficient_table+file_coeff"
   ]
  },
  {
   "cell_type": "code",
   "execution_count": 7,
   "id": "7b119e7d",
   "metadata": {},
   "outputs": [],
   "source": [
    "figureout = 'test_case2.pdf'\n",
    "\n",
    "result_case2 = RV_template_functions.apply_template_templfit_amplfixed(HJD, RV, errRV, AV, pulsation_type,\n",
    "                            period, t0, tmean_or_tmax, diagnostic,\n",
    "                            filein, figure_out=figureout)"
   ]
  },
  {
   "cell_type": "code",
   "execution_count": 8,
   "id": "d9171ded",
   "metadata": {
    "scrolled": true
   },
   "outputs": [
    {
     "name": "stdout",
     "output_type": "stream",
     "text": [
      "Systemic Radial Velocity:182.969+- 3.766\n"
     ]
    }
   ],
   "source": [
    "print('Systemic Radial Velocity:{0:6.3f}+-{1:6.3f}'.format(result_case2['v_gamma_mean'],\n",
    "                                                           result_case2['errv_gamma_mean']))"
   ]
  },
  {
   "cell_type": "markdown",
   "id": "20012119",
   "metadata": {},
   "source": [
    "## Case 3: Three or more RV measurement available (from Na lines)\n",
    "\n",
    "When three or more RV measurements are available for one target, it is possible to use the template not by anchoring it to a given epoch, but as a fitting function, leaving two free parameters: the phase displacement and the mean RV displacement. In this case, only Period, and amplitude are needed as previous knowledge. Note that the function apply_template_templfit_amplfixed takes as input t0, but this can be arbitrary and only affects visualization and not the results."
   ]
  },
  {
   "cell_type": "code",
   "execution_count": 9,
   "id": "15b00959",
   "metadata": {},
   "outputs": [],
   "source": [
    "# # --- measurements (must be np.array) ---\n",
    "HJD = np.asarray([2450000.,2450001.,2450001.1]) # HJD of the RV measurements\n",
    "RV = np.asarray([145.,165,155]) # RV measurements\n",
    "errRV = np.asarray([2.,3.,2.]) # uncertainties on RV measurements\n",
    "\n",
    "# --- pulsation properties ---\n",
    "# V-band amplitude\n",
    "AV = 1. \n",
    "\n",
    "# 0=RRab; 1=RRc\n",
    "pulsation_type = 1 \n",
    "\n",
    "# period of pulsation\n",
    "period = 0.37556\n",
    "\n",
    "# HJD of reference epoch\n",
    "t0 = 2450000.1\n",
    "\n",
    "# type of reference epoch \n",
    "# use 'Tmax' if t0 is the epoch of maximum\n",
    "# use 'Tmean' if t0 is the  epoch of mean magnitude on the rising branch\n",
    "tmean_or_tmax = 'Tmax'\n",
    "\n",
    "# use 0 for generic metallic lines or Fe I multiplet 43\n",
    "# use 1 for Na doublet\n",
    "# use 2 for Mg I b triplet\n",
    "# 3, 4, 5, 6 for Balmer alpha-delta lines\n",
    "diagnostic = 1\n",
    "filein = folder_coefficient_table+file_coeff"
   ]
  },
  {
   "cell_type": "code",
   "execution_count": 10,
   "id": "1fb844b9",
   "metadata": {
    "scrolled": false
   },
   "outputs": [],
   "source": [
    "figureout = 'test_case3.pdf'\n",
    "\n",
    "result_case3 = RV_template_functions.apply_template_templfit_amplfixed(HJD, RV, errRV, AV, pulsation_type,\n",
    "                            period, t0, diagnostic,\n",
    "                            filein, figure_out=figureout, quiet=1)"
   ]
  },
  {
   "cell_type": "code",
   "execution_count": 12,
   "id": "c5161fbf",
   "metadata": {
    "scrolled": true
   },
   "outputs": [
    {
     "name": "stdout",
     "output_type": "stream",
     "text": [
      "Systemic Radial Velocity:144.630+- 3.523\n"
     ]
    }
   ],
   "source": [
    "print('Systemic Radial Velocity:{0:6.3f}+-{1:6.3f}'.format(result_case3['v_gamma_mean'],\n",
    "                                                           result_case3['errv_gamma_mean']))"
   ]
  },
  {
   "cell_type": "code",
   "execution_count": null,
   "id": "54680eac",
   "metadata": {},
   "outputs": [],
   "source": []
  }
 ],
 "metadata": {
  "kernelspec": {
   "display_name": "Python 3 (ipykernel)",
   "language": "python",
   "name": "python3"
  },
  "language_info": {
   "codemirror_mode": {
    "name": "ipython",
    "version": 3
   },
   "file_extension": ".py",
   "mimetype": "text/x-python",
   "name": "python",
   "nbconvert_exporter": "python",
   "pygments_lexer": "ipython3",
   "version": "3.8.10"
  }
 },
 "nbformat": 4,
 "nbformat_minor": 5
}
